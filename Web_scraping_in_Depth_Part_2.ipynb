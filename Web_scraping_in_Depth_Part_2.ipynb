{
  "nbformat": 4,
  "nbformat_minor": 0,
  "metadata": {
    "colab": {
      "name": "Web-scraping in Depth Part 2",
      "provenance": [],
      "collapsed_sections": [],
      "authorship_tag": "ABX9TyOx/hSb2IVZPUQyGPB+NSJq",
      "include_colab_link": true
    },
    "kernelspec": {
      "name": "python3",
      "display_name": "Python 3"
    },
    "language_info": {
      "name": "python"
    }
  },
  "cells": [
    {
      "cell_type": "markdown",
      "metadata": {
        "id": "view-in-github",
        "colab_type": "text"
      },
      "source": [
        "<a href=\"https://colab.research.google.com/github/swmishra/web-scraping2/blob/main/Web_scraping_in_Depth_Part_2.ipynb\" target=\"_parent\"><img src=\"https://colab.research.google.com/assets/colab-badge.svg\" alt=\"Open In Colab\"/></a>"
      ]
    },
    {
      "cell_type": "code",
      "metadata": {
        "id": "yh3MGzbEIfBu"
      },
      "source": [
        "# This example checks to see if we have bs4 installed and will return a boolean.\n",
        "import sys\n",
        "'bs4' in sys.modules\n",
        "\n",
        "# install libraries\n",
        "!pip install requests\n",
        "!pip install lxml\n",
        "!pip install bs4\n",
        "\n",
        "# start by importing our libraries\n",
        "import requests\n",
        "import bs4"
      ],
      "execution_count": null,
      "outputs": []
    },
    {
      "cell_type": "code",
      "metadata": {
        "id": "W_XbO69MI10i"
      },
      "source": [
        "base_url = \"http://books.toscrape.com/catalogue/page-{}.html\"\n",
        "base_url.format('30')"
      ],
      "execution_count": null,
      "outputs": []
    },
    {
      "cell_type": "code",
      "metadata": {
        "id": "LgXPDHz4XZLn"
      },
      "source": [
        "page_num = 15\n",
        "base_url.format(page_num)"
      ],
      "execution_count": null,
      "outputs": []
    },
    {
      "cell_type": "code",
      "metadata": {
        "id": "WVeFHDN1X30K"
      },
      "source": [
        "# Make our request\n",
        "res = requests.get(base_url.format(1))\n",
        "# Create our soup\n",
        "soup = bs4.BeautifulSoup(res.text, 'lxml')\n",
        "# Check the soup: running this will return quite a bit of code from the html page.\n",
        "soup\n",
        "# Now let's select the product pod class: running this will also return quite a bit of code.\n",
        "soup.select(\".product_pod\")"
      ],
      "execution_count": null,
      "outputs": []
    },
    {
      "cell_type": "code",
      "metadata": {
        "id": "iBpT60qYaBk4"
      },
      "source": [
        "# Run this as a test to make sure our code is delivering the output we expect.\n",
        "len(soup.select(\".product_pod\"))"
      ],
      "execution_count": null,
      "outputs": []
    },
    {
      "cell_type": "code",
      "metadata": {
        "id": "AUe23yN-bqv-"
      },
      "source": [
        "#Run this to get our pod.\n",
        "products = soup.select(\".product_pod\")"
      ],
      "execution_count": null,
      "outputs": []
    },
    {
      "cell_type": "code",
      "metadata": {
        "id": "YeiPRQCMbzVZ"
      },
      "source": [
        "example = products[0] # using a zero index to grab just the first one.\n",
        "example"
      ],
      "execution_count": null,
      "outputs": []
    },
    {
      "cell_type": "code",
      "metadata": {
        "id": "h5FxOFrQb9-f"
      },
      "source": [
        "'star-rating Five' in str(example)"
      ],
      "execution_count": null,
      "outputs": []
    },
    {
      "cell_type": "code",
      "metadata": {
        "id": "-YY_4oWocCnP"
      },
      "source": [
        "example.select(\".star-rating.Three\")"
      ],
      "execution_count": null,
      "outputs": []
    },
    {
      "cell_type": "code",
      "metadata": {
        "id": "QvWPWNnZd8lm"
      },
      "source": [
        "example.select(\".star-rating.Five\") # this should output an empty list."
      ],
      "execution_count": null,
      "outputs": []
    },
    {
      "cell_type": "code",
      "metadata": {
        "id": "ANF9q0ANd-kR"
      },
      "source": [
        "[] == example.select(\".star-rating.Five\")"
      ],
      "execution_count": null,
      "outputs": []
    },
    {
      "cell_type": "code",
      "metadata": {
        "id": "gtWI2oYJeAji"
      },
      "source": [
        "example.select('a')"
      ],
      "execution_count": null,
      "outputs": []
    },
    {
      "cell_type": "code",
      "metadata": {
        "id": "0mspkOZMeF4j"
      },
      "source": [
        "example.select('a')[1]['title']"
      ],
      "execution_count": null,
      "outputs": []
    },
    {
      "cell_type": "code",
      "metadata": {
        "id": "kenIzavAefnq"
      },
      "source": [
        "# start by initiating an empty list that will hold our output.\n",
        "five_star_titles = []\n",
        "\n",
        "# Now iterate to get info from each page.\n",
        "# We want to include page 50, so index should go up to, but not include 51,\n",
        "for n in range (1,51):\n",
        "  scrape_url = base_url.format(n)\n",
        "  res = requests.get(scrape_url)\n",
        "  soup = bs4.BeautifulSoup(res.text,'lxml')\n",
        "  books = soup.select(\".product_pod\")\n",
        "  # within our loop, we'll create another loop to parse the books and select star rating five.\n",
        "  for book in books:\n",
        "    if len(book.select('.star-rating.Five')) != 0: # if the list is not empty, then we do have a 5 star book. Could also use if 'star-rating Five' in str(book)\n",
        "      book_title = book.select('a')[1]['title']\n",
        "      five_star_titles.append(book_title)"
      ],
      "execution_count": null,
      "outputs": []
    },
    {
      "cell_type": "code",
      "metadata": {
        "id": "gF6lk3WcepHE"
      },
      "source": [
        "# Running this should give us our list\n",
        "five_star_titles"
      ],
      "execution_count": null,
      "outputs": []
    },
    {
      "cell_type": "markdown",
      "metadata": {
        "id": "lfyiZKV6qKb4"
      },
      "source": [
        "Adjusting the script to get a list of all of the books that only have one star rating, in the first 5 pages of the website."
      ]
    },
    {
      "cell_type": "code",
      "metadata": {
        "colab": {
          "base_uri": "https://localhost:8080/"
        },
        "id": "p4Eli7iOqUOx",
        "outputId": "80cc2f5c-5d49-4037-b2a9-6386ba0cf784"
      },
      "source": [
        "#Checking for 1 star rating\n",
        "[] == example.select(\".star-rating.One\")"
      ],
      "execution_count": null,
      "outputs": [
        {
          "output_type": "execute_result",
          "data": {
            "text/plain": [
              "True"
            ]
          },
          "metadata": {
            "tags": []
          },
          "execution_count": 33
        }
      ]
    },
    {
      "cell_type": "code",
      "metadata": {
        "colab": {
          "base_uri": "https://localhost:8080/"
        },
        "id": "yIv7eNsgroAZ",
        "outputId": "1d24d876-15d6-49b0-d65f-cbe3f61e7b62"
      },
      "source": [
        "# Starting by initiating an empty list that will hold our output.\n",
        "one_star_titles = []\n",
        "\n",
        "# Now iterating  to get info from each page.\n",
        "# We want to include page 5, so index should go up to, but not include 6,\n",
        "for n in range (1,6):\n",
        "  scrape_url = base_url.format(n)\n",
        "  res = requests.get(scrape_url)\n",
        "  soup = bs4.BeautifulSoup(res.text,'lxml')\n",
        "  books = soup.select(\".product_pod\")\n",
        "  # within our loop, we'll create another loop to parse the books and select star rating one.\n",
        "  for book in books:\n",
        "    if len(book.select('.star-rating.One')) != 0: # if the list is not empty, then we do have a 1 star book.\n",
        "      book_title = book.select('a')[1]['title']\n",
        "      one_star_titles.append(book_title)\n",
        "# Running this should give us our list\n",
        "one_star_titles"
      ],
      "execution_count": null,
      "outputs": [
        {
          "output_type": "execute_result",
          "data": {
            "text/plain": [
              "['Tipping the Velvet',\n",
              " 'Soumission',\n",
              " 'The Requiem Red',\n",
              " 'The Black Maria',\n",
              " 'Olio',\n",
              " 'Mesaerion: The Best Science Fiction Stories 1800-1849',\n",
              " 'In Her Wake',\n",
              " 'The Bear and the Piano',\n",
              " 'In a Dark, Dark Wood',\n",
              " 'When We Collided',\n",
              " 'Unbound: How Eight Technologies Made Us Human, Transformed Society, and Brought Our World to the Brink',\n",
              " 'Tsubasa: WoRLD CHRoNiCLE 2 (Tsubasa WoRLD CHRoNiCLE #2)',\n",
              " 'The Torch Is Passed: A Harding Family Story',\n",
              " 'The Secret of Dreadwillow Carse',\n",
              " 'The Pioneer Woman Cooks: Dinnertime: Comfort Classics, Freezer Food, 16-Minute Meals, and Other Delicious Ways to Solve Supper!',\n",
              " 'The Gutsy Girl: Escapades for Your Life of Epic Adventure',\n",
              " 'The Electric Pencil: Drawings from Inside State Hospital No. 3',\n",
              " 'The Age of Genius: The Seventeenth Century and the Birth of the Modern Mind',\n",
              " 'Pop Gun War, Volume 1: Gift',\n",
              " 'orange: The Complete Collection 1 (orange: The Complete Collection #1)',\n",
              " 'Online Marketing for Busy Authors: A Step-By-Step Guide',\n",
              " 'Layered: Baking, Building, and Styling Spectacular Cakes']"
            ]
          },
          "metadata": {
            "tags": []
          },
          "execution_count": 50
        }
      ]
    }
  ]
}